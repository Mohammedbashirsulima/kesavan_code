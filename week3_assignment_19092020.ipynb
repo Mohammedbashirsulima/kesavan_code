{
 "cells": [
  {
   "cell_type": "code",
   "execution_count": null,
   "metadata": {},
   "outputs": [],
   "source": [
    "Input=\"Python World\"\n"
   ]
  },
  {
   "cell_type": "code",
   "execution_count": 1,
   "metadata": {},
   "outputs": [
    {
     "data": {
      "text/plain": [
       "['Apple', 'Apricot', 'Avacodas']"
      ]
     },
     "execution_count": 1,
     "metadata": {},
     "output_type": "execute_result"
    }
   ],
   "source": [
    "fruit=['Apple','Banana','Guava','Apricot','Mango','Avacodas']\n",
    "[i for i in fruit if i.startswith('A')]"
   ]
  },
  {
   "cell_type": "code",
   "execution_count": 1,
   "metadata": {},
   "outputs": [
    {
     "data": {
      "text/plain": [
       "[400, 1600, 3600, 6400, 10000, 14400]"
      ]
     },
     "execution_count": 1,
     "metadata": {},
     "output_type": "execute_result"
    }
   ],
   "source": [
    "[i**2 for i in [20,40,60,80,100,120]]"
   ]
  },
  {
   "cell_type": "code",
   "execution_count": 3,
   "metadata": {},
   "outputs": [
    {
     "data": {
      "text/plain": [
       "[400, 1600, 3600, 6400, 10000, 14400]"
      ]
     },
     "execution_count": 3,
     "metadata": {},
     "output_type": "execute_result"
    }
   ],
   "source": [
    "lst1=[20,40,60,80,100,120]\n",
    "list(map(lambda a:a**2,lst1))"
   ]
  },
  {
   "cell_type": "code",
   "execution_count": 2,
   "metadata": {},
   "outputs": [
    {
     "name": "stdout",
     "output_type": "stream",
     "text": [
      "400 1600 3600 6400 10000 14400 "
     ]
    }
   ],
   "source": [
    "class Math():\n",
    "\n",
    "    @staticmethod\n",
    "    def Sqr(input):\n",
    "        lst2=[]\n",
    "        for i in input:\n",
    "            print(i**2,end=' ')\n",
    "\n",
    "lst1=[20,40,60,80,100,120]\n",
    "obj1=Math()\n",
    "obj1.Sqr(lst1)"
   ]
  },
  {
   "cell_type": "code",
   "execution_count": 1,
   "metadata": {},
   "outputs": [
    {
     "name": "stdout",
     "output_type": "stream",
     "text": [
      "['Apple', 'Apricot', 'Avacodas']\n"
     ]
    }
   ],
   "source": [
    "class Grocery:\n",
    "\n",
    "    def fruits(self,all_fruit):\n",
    "        lst1=[]\n",
    "        for i in all_fruit:\n",
    "            if i[0]=='A':\n",
    "                lst1.append(i)\n",
    "        print(lst1)\n",
    "\n",
    "\n",
    "a=Grocery()\n",
    "fruit=['Apple','Banana','Guava','Apricot','Mango','Avacodas']\n",
    "a.fruits(fruit)"
   ]
  },
  {
   "cell_type": "code",
   "execution_count": 3,
   "metadata": {},
   "outputs": [
    {
     "name": "stdout",
     "output_type": "stream",
     "text": [
      "The Dog name is : Puppy\n",
      "The Dog age is : 7\n",
      "The Dog colour is : White\n",
      "The Dog sound is : Woow WooW\n",
      "The Cat name is : Tiger\n",
      "The Cat age is : 2\n",
      "The Cat colour is : White and Black\n",
      "The Cat sound is : Miia Wow\n"
     ]
    }
   ],
   "source": [
    "class Dog:\n",
    "\n",
    "    def __init__(self,name,age):\n",
    "        self.name=name\n",
    "        self.age=age\n",
    "\n",
    "    def Dog_Colour(self,colour):\n",
    "        print('The Dog name is :',self.name)\n",
    "        print('The Dog age is :', self.age)\n",
    "        print('The Dog colour is :',colour)\n",
    "\n",
    "\n",
    "    def Dog_Sound(self,sound):\n",
    "        print('The Dog sound is :', sound)\n",
    "\n",
    "\n",
    "class Cat(Dog):\n",
    "\n",
    "    def __init__(self,name,age):\n",
    "        self.name=name\n",
    "        self.age=age\n",
    "\n",
    "    def Cat_Colour(self, colour):\n",
    "        print('The Cat name is :', self.name)\n",
    "        print('The Cat age is :', self.age)\n",
    "        print('The Cat colour is :', colour)\n",
    "\n",
    "    def Cat_Sound(self, sound):\n",
    "        print('The Cat sound is :', sound)\n",
    "\n",
    "Obj1=Dog('Puppy',7)\n",
    "Obj1.Dog_Colour('White')\n",
    "Obj1.Dog_Sound('Woow WooW')\n",
    "\n",
    "Obj2=Cat('Tiger',2)\n",
    "Obj2.Cat_Colour('White and Black')\n",
    "Obj2.Cat_Sound('Miia Wow')\n"
   ]
  },
  {
   "cell_type": "code",
   "execution_count": 4,
   "metadata": {},
   "outputs": [
    {
     "name": "stdout",
     "output_type": "stream",
     "text": [
      "I am from meth1\n",
      "I am from meth2\n",
      "I am from meth3\n"
     ]
    }
   ],
   "source": [
    "class Base_1:\n",
    "    def meth1(self):\n",
    "        print('I am from meth1')\n",
    "\n",
    "\n",
    "class Base_2:\n",
    "    def meth2(self):\n",
    "        print('I am from meth2')\n",
    "\n",
    "\n",
    "class Base_3(Base_1,Base_2):\n",
    "    def meth3(self):\n",
    "        print('I am from meth3')\n",
    "\n",
    "Obj1=Base_3()\n",
    "Obj1.meth1()\n",
    "Obj1.meth2()\n",
    "Obj1.meth3()\n",
    "\n"
   ]
  },
  {
   "cell_type": "code",
   "execution_count": 6,
   "metadata": {},
   "outputs": [
    {
     "name": "stdout",
     "output_type": "stream",
     "text": [
      "{'P': 1, 'y': 1, 't': 1, 'h': 1, 'o': 2, 'n': 1, ' ': 1, 'W': 1, 'r': 1, 'l': 1, 'd': 1}\n"
     ]
    }
   ],
   "source": [
    "class Word_Count:\n",
    "\n",
    "    def Count_Of_Word(self,Input):\n",
    "        count=0\n",
    "        dict1={}\n",
    "        for i in Input:\n",
    "            if i in dict1:\n",
    "                count=count+1\n",
    "                dict1[i]=count\n",
    "            else:\n",
    "                count=1\n",
    "                dict1[i] = count\n",
    "        print(dict1)\n",
    "\n",
    "Obj1=Word_Count()\n",
    "Obj1.Count_Of_Word('Python World')\n"
   ]
  },
  {
   "cell_type": "code",
   "execution_count": null,
   "metadata": {},
   "outputs": [],
   "source": []
  }
 ],
 "metadata": {
  "kernelspec": {
   "display_name": "Python 3",
   "language": "python",
   "name": "python3"
  },
  "language_info": {
   "codemirror_mode": {
    "name": "ipython",
    "version": 3
   },
   "file_extension": ".py",
   "mimetype": "text/x-python",
   "name": "python",
   "nbconvert_exporter": "python",
   "pygments_lexer": "ipython3",
   "version": "3.8.3"
  }
 },
 "nbformat": 4,
 "nbformat_minor": 4
}
